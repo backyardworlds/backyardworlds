{
 "cells": [
  {
   "cell_type": "code",
   "execution_count": 1,
   "metadata": {
    "collapsed": false,
    "nbpresent": {
     "id": "5a748f96-6494-4c41-9a1d-10e17eb490b7"
    }
   },
   "outputs": [
    {
     "name": "stdout",
     "output_type": "stream",
     "text": [
      "The autoreload extension is already loaded. To reload it, use:\n",
      "  %reload_ext autoreload\n"
     ]
    }
   ],
   "source": [
    "%load_ext autoreload\n",
    "%autoreload 2\n",
    "%matplotlib inline\n",
    "import numpy as np\n",
    "import backyardworlds as bw\n",
    "import matplotlib.pyplot as plt\n",
    "import random\n",
    "from astropy.io import fits"
   ]
  },
  {
   "cell_type": "code",
   "execution_count": null,
   "metadata": {
    "collapsed": false,
    "nbpresent": {
     "id": "dae13f54-d0cf-43a2-9927-9420e0f8f984"
    },
    "scrolled": false
   },
   "outputs": [
    {
     "name": "stdout",
     "output_type": "stream",
     "text": [
      "Loading classifications...\n",
      "classification_id             user_name              ...       y       frame\n",
      "----------------- ---------------------------------- ... ------------- -----\n",
      "         13113878 not-logged-in-2e4322fa2b8865e5c9f2 ... 882.121707654     0\n",
      "         19250189                        marckuchner ... 132.399993896     1\n",
      "         19250189                        marckuchner ... 58.3999938965     1\n",
      "         19250189                        marckuchner ... 422.399993896     2\n",
      "         19250189                        marckuchner ... 336.399993896     3\n",
      "         19596674                        marckuchner ... 142.399993896     0\n",
      "         19596674                        marckuchner ... 213.399993896     3\n",
      "         20019722 not-logged-in-cd717babbf506570fc2d ... 283.614483332     0\n",
      "         20019722 not-logged-in-cd717babbf506570fc2d ... 322.007710333     1\n",
      "         20019722 not-logged-in-cd717babbf506570fc2d ... 442.141356112     2\n",
      "              ...                                ... ...           ...   ...\n",
      "         30116692                          SWEMlacer ... 327.989562988     2\n",
      "         30116692                          SWEMlacer ... 327.989562988     3\n",
      "         30116692                          SWEMlacer ... 327.989562988     0\n",
      "         30116692                          SWEMlacer ... 312.989562988     1\n",
      "         30116692                          SWEMlacer ... 312.989562988     2\n",
      "         30116692                          SWEMlacer ... 312.989562988     3\n",
      "         30116692                          SWEMlacer ... 312.989562988     0\n",
      "         30116692                          SWEMlacer ... 261.989562988     0\n",
      "         30116692                          SWEMlacer ... 261.989562988     3\n",
      "         30116692                          SWEMlacer ... 261.989562988     1\n",
      "         30116692                          SWEMlacer ... 261.989562988     2\n",
      "Length = 3618972 rows\n"
     ]
    }
   ],
   "source": [
    "# Load the data (THIS TAKES A FEW MINUTES!)\n",
    "path = '/Users/jfilippazzo/Documents/Modules/backyardworlds/data/'\n",
    "C = bw.ClassificationData(path+'classifications.csv', path+'subjects.txt')"
   ]
  },
  {
   "cell_type": "markdown",
   "metadata": {},
   "source": [
    "Fetch the retired subjects by passing the desired number of clicks."
   ]
  },
  {
   "cell_type": "code",
   "execution_count": 6,
   "metadata": {
    "collapsed": false
   },
   "outputs": [
    {
     "ename": "NameError",
     "evalue": "name 'C' is not defined",
     "output_type": "error",
     "traceback": [
      "\u001b[0;31m---------------------------------------------------------------------------\u001b[0m",
      "\u001b[0;31mNameError\u001b[0m                                 Traceback (most recent call last)",
      "\u001b[0;32m<ipython-input-6-7350d07d752b>\u001b[0m in \u001b[0;36m<module>\u001b[0;34m()\u001b[0m\n\u001b[0;32m----> 1\u001b[0;31m \u001b[0mC\u001b[0m\u001b[0;34m.\u001b[0m\u001b[0mget_retired\u001b[0m\u001b[0;34m(\u001b[0m\u001b[0;36m3\u001b[0m\u001b[0;34m)\u001b[0m\u001b[0;34m\u001b[0m\u001b[0m\n\u001b[0m",
      "\u001b[0;31mNameError\u001b[0m: name 'C' is not defined"
     ]
    }
   ],
   "source": [
    "C.get_retired(3)"
   ]
  },
  {
   "cell_type": "code",
   "execution_count": 53,
   "metadata": {
    "collapsed": false
   },
   "outputs": [
    {
     "name": "stdout",
     "output_type": "stream",
     "text": [
      "Subject id: 5670480 \n",
      "\n",
      "Frame 0 has 19 clicks from 3 users.\n",
      "Frame 1 has 15 clicks from 5 users.\n",
      "Frame 2 has 4 clicks from 4 users.\n",
      "Frame 3 has 17 clicks from 4 users.\n",
      "\n",
      "\n",
      "     name           ra           dec        J   H   K   W1  W2  W3  W4 Clicks\n",
      "------------- ------------- -------------- --- --- --- --- --- --- --- ------\n",
      "Not in Simbad 160.559510522 -26.5702073832 nan nan nan nan nan nan nan      7\n",
      "Not in Simbad 160.560174819  -26.620170341 nan nan nan nan nan nan nan      7\n"
     ]
    },
    {
     "data": {
      "image/png": "[encoded data removed]",
      "text/plain": [
       "<matplotlib.figure.Figure at 0x233828cf8>"
      ]
     },
     "metadata": {},
     "output_type": "display_data"
    }
   ],
   "source": [
    "id = random.choice(C.retired)\n",
    "print('Subject id:',id,'\\n')\n",
    "sub = C.get_subject(id)"
   ]
  },
  {
   "cell_type": "code",
   "execution_count": 20,
   "metadata": {
    "collapsed": false
   },
   "outputs": [
    {
     "name": "stdout",
     "output_type": "stream",
     "text": [
      "No classifications for subject 5566284\n"
     ]
    }
   ],
   "source": [
    "# Check T6 dwarf!\n",
    "C.get_subject(5566284)"
   ]
  },
  {
   "cell_type": "markdown",
   "metadata": {},
   "source": [
    "# Questions\n",
    "\n",
    "- Retirement number based on clicks per frame or per subject? Occasionally, someone clicks a subject 50 times in frame 3 but nowhere else.\n",
    "- Also parse the talk page for the subject to filter out #ghost, #artifact, etc?\n",
    "- What is the cluster click threshold?\n",
    "- This filters out movers though! Separate function to look for movers?"
   ]
  },
  {
   "cell_type": "code",
   "execution_count": 34,
   "metadata": {
    "collapsed": false
   },
   "outputs": [
    {
     "ename": "SyntaxError",
     "evalue": "invalid syntax (<ipython-input-34-516dc7c3d786>, line 2)",
     "output_type": "error",
     "traceback": [
      "\u001b[0;36m  File \u001b[0;32m\"<ipython-input-34-516dc7c3d786>\"\u001b[0;36m, line \u001b[0;32m2\u001b[0m\n\u001b[0;31m    Include Talk page data\u001b[0m\n\u001b[0m               ^\u001b[0m\n\u001b[0;31mSyntaxError\u001b[0m\u001b[0;31m:\u001b[0m invalid syntax\n"
     ]
    }
   ],
   "source": [
    "After 15 users view a subject, do we recover anything?\n",
    "Include Talk page data\n",
    "SEnd Aaron RA and Dec clicks\n",
    "Use file form Aaron to get tile number for each subtile"
   ]
  },
  {
   "cell_type": "code",
   "execution_count": 21,
   "metadata": {
    "collapsed": true
   },
   "outputs": [],
   "source": [
    "#Mike Brown believes it is between Aldebaran and the Pleides"
   ]
  },
  {
   "cell_type": "code",
   "execution_count": null,
   "metadata": {
    "collapsed": true
   },
   "outputs": [],
   "source": []
  }
 ],
 "metadata": {
  "anaconda-cloud": {},
  "kernelspec": {
   "display_name": "Python [conda env:astroconda]",
   "language": "python",
   "name": "conda-env-astroconda-py"
  },
  "language_info": {
   "codemirror_mode": {
    "name": "ipython",
    "version": 3
   },
   "file_extension": ".py",
   "mimetype": "text/x-python",
   "name": "python",
   "nbconvert_exporter": "python",
   "pygments_lexer": "ipython3",
   "version": "3.5.2"
  },
  "nbpresent": {
   "slides": {
    "f4f36e2e-17ef-45df-8dc6-413d84bebf73": {
     "id": "f4f36e2e-17ef-45df-8dc6-413d84bebf73",
     "layout": "treemap",
     "prev": null,
     "regions": {
      "1f1f2d5c-c505-4757-b82d-21af15c6947e": {
       "attrs": {
        "height": 0.33,
        "treemap:weight": 1,
        "width": 1,
        "x": 0,
        "y": 0.67
       },
       "id": "1f1f2d5c-c505-4757-b82d-21af15c6947e"
      },
      "972f67b9-7bb2-42de-b7dc-b2acc7d8aa69": {
       "attrs": {
        "height": 0.67,
        "treemap:weight": 1,
        "width": 0.5,
        "x": 0,
        "y": 0
       },
       "id": "972f67b9-7bb2-42de-b7dc-b2acc7d8aa69"
      },
      "d1872bd8-1c8a-4d7e-90f7-a22c3840abff": {
       "attrs": {
        "height": 0.67,
        "treemap:weight": 1,
        "width": 0.5,
        "x": 0.5,
        "y": 0
       },
       "id": "d1872bd8-1c8a-4d7e-90f7-a22c3840abff"
      }
     }
    }
   },
   "themes": {
    "default": "87189568-28f0-469e-91c5-c4cf495f7191",
    "theme": {
     "87189568-28f0-469e-91c5-c4cf495f7191": {
      "backgrounds": {
       "backgroundColor": {
        "background-color": "backgroundColor",
        "id": "backgroundColor"
       }
      },
      "id": "87189568-28f0-469e-91c5-c4cf495f7191",
      "palette": {
       "backgroundColor": {
        "id": "backgroundColor",
        "rgb": [
         34,
         34,
         34
        ]
       },
       "headingColor": {
        "id": "headingColor",
        "rgb": [
         238,
         238,
         238
        ]
       },
       "linkColor": {
        "id": "linkColor",
        "rgb": [
         170,
         34,
         51
        ]
       },
       "mainColor": {
        "id": "mainColor",
        "rgb": [
         238,
         238,
         238
        ]
       }
      },
      "rules": {
       "a": {
        "color": "linkColor"
       },
       "h1": {
        "color": "headingColor",
        "font-family": "Ubuntu",
        "font-size": 7
       },
       "h2": {
        "color": "headingColor",
        "font-family": "Ubuntu",
        "font-size": 5
       },
       "h3": {
        "color": "headingColor",
        "font-family": "Ubuntu",
        "font-size": 3.75
       },
       "h4": {
        "color": "headingColor",
        "font-family": "Ubuntu",
        "font-size": 3
       },
       "h5": {
        "color": "headingColor",
        "font-family": "Ubuntu"
       },
       "h6": {
        "color": "headingColor",
        "font-family": "Ubuntu"
       },
       "h7": {
        "color": "headingColor",
        "font-family": "Ubuntu"
       },
       "li": {
        "color": "mainColor",
        "font-family": "Ubuntu",
        "font-size": 5
       },
       "p": {
        "color": "mainColor",
        "font-family": "Ubuntu",
        "font-size": 5
       }
      },
      "text-base": {
       "color": "mainColor",
       "font-family": "Ubuntu",
       "font-size": 5
      }
     }
    }
   }
  }
 },
 "nbformat": 4,
 "nbformat_minor": 1
}
