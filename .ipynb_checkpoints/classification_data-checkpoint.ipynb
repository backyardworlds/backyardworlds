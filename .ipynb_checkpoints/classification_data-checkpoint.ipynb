{
 "cells": [
  {
   "cell_type": "code",
   "execution_count": 1,
   "metadata": {
    "collapsed": false,
    "nbpresent": {
     "id": "5a748f96-6494-4c41-9a1d-10e17eb490b7"
    }
   },
   "outputs": [
    {
     "name": "stdout",
     "output_type": "stream",
     "text": [
      "The autoreload extension is already loaded. To reload it, use:\n",
      "  %reload_ext autoreload\n"
     ]
    }
   ],
   "source": [
    "%load_ext autoreload\n",
    "%autoreload 2\n",
    "%matplotlib inline\n",
    "import numpy as np\n",
    "import backyardworlds as bw\n",
    "import matplotlib.pyplot as plt"
   ]
  },
  {
   "cell_type": "code",
   "execution_count": 20,
   "metadata": {
    "collapsed": false,
    "nbpresent": {
     "id": "dae13f54-d0cf-43a2-9927-9420e0f8f984"
    }
   },
   "outputs": [],
   "source": [
    "# Load the data\n",
    "#bw.subject_CSV('/Users/jfilippazzo/Desktop/backyard worlds/backyard-worlds-planet-9-subjects.csv')\n",
    "C = bw.ClassificationData('classifications.csv', 'subjects.txt')"
   ]
  },
  {
   "cell_type": "code",
   "execution_count": 29,
   "metadata": {
    "collapsed": false
   },
   "outputs": [
    {
     "data": {
      "text/html": [
       "&lt;Table length=18&gt;\n",
       "<table id=\"table6095869152\" class=\"table-striped table-bordered table-condensed\">\n",
       "<thead><tr><th>subject_id</th><th>RA</th><th>Dec</th><th>SIMBAD</th><th>VizieR</th><th>IRSA</th><th>images</th><th>MJD</th><th>Center</th><th>Tilenum</th><th>Nearest</th></tr></thead>\n",
       "<thead><tr><th>int64</th><th>float64</th><th>float64</th><th>str100</th><th>str170</th><th>str225</th><th>str122</th><th>str34</th><th>str33</th><th>int64</th><th>str78</th></tr></thead>\n",
       "<tr><td>5465402</td><td>nan</td><td>nan</td><td>http://simbad.u-strasbg.fr/simbad/sim-coo?Coord=158.72673+0.48849440&amp;Radius=498&amp;Radius.unit=arcsec</td><td>http://vizier.u-strasbg.fr/viz-bin/VizieR?-source=&amp;-out.add=_r&amp;-out.add=_RAJ%2C_DEJ&amp;-sort=_r&amp;-to=&amp;-out.max=20&amp;-meta.ucd=2&amp;-meta.foot=1&amp;-c.rs=498&amp;-c=158.72673+0.48849440</td><td>http://irsa.ipac.caltech.edu/applications/finderchart/#&amp;id=Hydra_finderchart_finder_chart&amp;projectId=finderchart&amp;UserTargetWorldPt=158.72673;0.48849440;EQ_J2000&amp;subsize=0.195556&amp;sources=DSS,SDSS,2MASS,IRIS,WISE&amp;DoSearch=true</td><td>unwise-1588p000.x4.y6.e0.jpeg, unwise-1588p000.x4.y6.e1.jpeg, unwise-1588p000.x4.y6.e2.jpeg, unwise-1588p000.x4.y6.e3.jpeg</td><td>55343.6, 55533.7, 56805.7, 56995.8</td><td>R.A.= 158.72673 dec= 0.48849440</td><td>8112</td><td>519207, 519205, 519214, 519198, 519215, 519199, 519197, 519213, 519264, 519222</td></tr>\n",
       "<tr><td>5465402</td><td>nan</td><td>nan</td><td>http://simbad.u-strasbg.fr/simbad/sim-coo?Coord=158.72673+0.48849440&amp;Radius=498&amp;Radius.unit=arcsec</td><td>http://vizier.u-strasbg.fr/viz-bin/VizieR?-source=&amp;-out.add=_r&amp;-out.add=_RAJ%2C_DEJ&amp;-sort=_r&amp;-to=&amp;-out.max=20&amp;-meta.ucd=2&amp;-meta.foot=1&amp;-c.rs=498&amp;-c=158.72673+0.48849440</td><td>http://irsa.ipac.caltech.edu/applications/finderchart/#&amp;id=Hydra_finderchart_finder_chart&amp;projectId=finderchart&amp;UserTargetWorldPt=158.72673;0.48849440;EQ_J2000&amp;subsize=0.195556&amp;sources=DSS,SDSS,2MASS,IRIS,WISE&amp;DoSearch=true</td><td>unwise-1588p000.x4.y6.e0.jpeg, unwise-1588p000.x4.y6.e1.jpeg, unwise-1588p000.x4.y6.e2.jpeg, unwise-1588p000.x4.y6.e3.jpeg</td><td>55343.6, 55533.7, 56805.7, 56995.8</td><td>R.A.= 158.72673 dec= 0.48849440</td><td>8112</td><td>519207, 519205, 519214, 519198, 519215, 519199, 519197, 519213, 519264, 519222</td></tr>\n",
       "<tr><td>5465402</td><td>nan</td><td>nan</td><td>http://simbad.u-strasbg.fr/simbad/sim-coo?Coord=158.72673+0.48849440&amp;Radius=498&amp;Radius.unit=arcsec</td><td>http://vizier.u-strasbg.fr/viz-bin/VizieR?-source=&amp;-out.add=_r&amp;-out.add=_RAJ%2C_DEJ&amp;-sort=_r&amp;-to=&amp;-out.max=20&amp;-meta.ucd=2&amp;-meta.foot=1&amp;-c.rs=498&amp;-c=158.72673+0.48849440</td><td>http://irsa.ipac.caltech.edu/applications/finderchart/#&amp;id=Hydra_finderchart_finder_chart&amp;projectId=finderchart&amp;UserTargetWorldPt=158.72673;0.48849440;EQ_J2000&amp;subsize=0.195556&amp;sources=DSS,SDSS,2MASS,IRIS,WISE&amp;DoSearch=true</td><td>unwise-1588p000.x4.y6.e0.jpeg, unwise-1588p000.x4.y6.e1.jpeg, unwise-1588p000.x4.y6.e2.jpeg, unwise-1588p000.x4.y6.e3.jpeg</td><td>55343.6, 55533.7, 56805.7, 56995.8</td><td>R.A.= 158.72673 dec= 0.48849440</td><td>8112</td><td>519207, 519205, 519214, 519198, 519215, 519199, 519197, 519213, 519264, 519222</td></tr>\n",
       "<tr><td>5465406</td><td>nan</td><td>nan</td><td>http://simbad.u-strasbg.fr/simbad/sim-coo?Coord=158.72673+0.68402900&amp;Radius=498&amp;Radius.unit=arcsec</td><td>http://vizier.u-strasbg.fr/viz-bin/VizieR?-source=&amp;-out.add=_r&amp;-out.add=_RAJ%2C_DEJ&amp;-sort=_r&amp;-to=&amp;-out.max=20&amp;-meta.ucd=2&amp;-meta.foot=1&amp;-c.rs=498&amp;-c=158.72673+0.68402900</td><td>http://irsa.ipac.caltech.edu/applications/finderchart/#&amp;id=Hydra_finderchart_finder_chart&amp;projectId=finderchart&amp;UserTargetWorldPt=158.72673;0.68402900;EQ_J2000&amp;subsize=0.195556&amp;sources=DSS,SDSS,2MASS,IRIS,WISE&amp;DoSearch=true</td><td>unwise-1588p000.x4.y7.e0.jpeg, unwise-1588p000.x4.y7.e1.jpeg, unwise-1588p000.x4.y7.e2.jpeg, unwise-1588p000.x4.y7.e3.jpeg</td><td>55343.6, 55533.7, 56805.7, 56995.8</td><td>R.A.= 158.72673 dec= 0.68402900</td><td>8112</td><td>519264, 519206, 519215, 519199, 519256, 519272, 519198, 519214, 519265, 519223</td></tr>\n",
       "<tr><td>5465406</td><td>nan</td><td>nan</td><td>http://simbad.u-strasbg.fr/simbad/sim-coo?Coord=158.72673+0.68402900&amp;Radius=498&amp;Radius.unit=arcsec</td><td>http://vizier.u-strasbg.fr/viz-bin/VizieR?-source=&amp;-out.add=_r&amp;-out.add=_RAJ%2C_DEJ&amp;-sort=_r&amp;-to=&amp;-out.max=20&amp;-meta.ucd=2&amp;-meta.foot=1&amp;-c.rs=498&amp;-c=158.72673+0.68402900</td><td>http://irsa.ipac.caltech.edu/applications/finderchart/#&amp;id=Hydra_finderchart_finder_chart&amp;projectId=finderchart&amp;UserTargetWorldPt=158.72673;0.68402900;EQ_J2000&amp;subsize=0.195556&amp;sources=DSS,SDSS,2MASS,IRIS,WISE&amp;DoSearch=true</td><td>unwise-1588p000.x4.y7.e0.jpeg, unwise-1588p000.x4.y7.e1.jpeg, unwise-1588p000.x4.y7.e2.jpeg, unwise-1588p000.x4.y7.e3.jpeg</td><td>55343.6, 55533.7, 56805.7, 56995.8</td><td>R.A.= 158.72673 dec= 0.68402900</td><td>8112</td><td>519264, 519206, 519215, 519199, 519256, 519272, 519198, 519214, 519265, 519223</td></tr>\n",
       "<tr><td>5465406</td><td>nan</td><td>nan</td><td>http://simbad.u-strasbg.fr/simbad/sim-coo?Coord=158.72673+0.68402900&amp;Radius=498&amp;Radius.unit=arcsec</td><td>http://vizier.u-strasbg.fr/viz-bin/VizieR?-source=&amp;-out.add=_r&amp;-out.add=_RAJ%2C_DEJ&amp;-sort=_r&amp;-to=&amp;-out.max=20&amp;-meta.ucd=2&amp;-meta.foot=1&amp;-c.rs=498&amp;-c=158.72673+0.68402900</td><td>http://irsa.ipac.caltech.edu/applications/finderchart/#&amp;id=Hydra_finderchart_finder_chart&amp;projectId=finderchart&amp;UserTargetWorldPt=158.72673;0.68402900;EQ_J2000&amp;subsize=0.195556&amp;sources=DSS,SDSS,2MASS,IRIS,WISE&amp;DoSearch=true</td><td>unwise-1588p000.x4.y7.e0.jpeg, unwise-1588p000.x4.y7.e1.jpeg, unwise-1588p000.x4.y7.e2.jpeg, unwise-1588p000.x4.y7.e3.jpeg</td><td>55343.6, 55533.7, 56805.7, 56995.8</td><td>R.A.= 158.72673 dec= 0.68402900</td><td>8112</td><td>519264, 519206, 519215, 519199, 519256, 519272, 519198, 519214, 519265, 519223</td></tr>\n",
       "<tr><td>5465410</td><td>nan</td><td>nan</td><td>http://simbad.u-strasbg.fr/simbad/sim-coo?Coord=158.53118+-0.68478482&amp;Radius=498&amp;Radius.unit=arcsec</td><td>http://vizier.u-strasbg.fr/viz-bin/VizieR?-source=&amp;-out.add=_r&amp;-out.add=_RAJ%2C_DEJ&amp;-sort=_r&amp;-to=&amp;-out.max=20&amp;-meta.ucd=2&amp;-meta.foot=1&amp;-c.rs=498&amp;-c=158.53118+-0.68478482</td><td>http://irsa.ipac.caltech.edu/applications/finderchart/#&amp;id=Hydra_finderchart_finder_chart&amp;projectId=finderchart&amp;UserTargetWorldPt=158.53118;-0.68478482;EQ_J2000&amp;subsize=0.195556&amp;sources=DSS,SDSS,2MASS,IRIS,WISE&amp;DoSearch=true</td><td>unwise-1588p000.x5.y0.e0.jpeg, unwise-1588p000.x5.y0.e1.jpeg, unwise-1588p000.x5.y0.e2.jpeg, unwise-1588p000.x5.y0.e3.jpeg</td><td>55343.6, 55533.7, 56805.7, 56995.8</td><td>R.A.= 158.53118 dec= -0.68478482</td><td>8112</td><td>518895, 519209, 519216, 519200, 518903, 518887, 519201, 519217, 518894, 519224</td></tr>\n",
       "<tr><td>5465410</td><td>nan</td><td>nan</td><td>http://simbad.u-strasbg.fr/simbad/sim-coo?Coord=158.53118+-0.68478482&amp;Radius=498&amp;Radius.unit=arcsec</td><td>http://vizier.u-strasbg.fr/viz-bin/VizieR?-source=&amp;-out.add=_r&amp;-out.add=_RAJ%2C_DEJ&amp;-sort=_r&amp;-to=&amp;-out.max=20&amp;-meta.ucd=2&amp;-meta.foot=1&amp;-c.rs=498&amp;-c=158.53118+-0.68478482</td><td>http://irsa.ipac.caltech.edu/applications/finderchart/#&amp;id=Hydra_finderchart_finder_chart&amp;projectId=finderchart&amp;UserTargetWorldPt=158.53118;-0.68478482;EQ_J2000&amp;subsize=0.195556&amp;sources=DSS,SDSS,2MASS,IRIS,WISE&amp;DoSearch=true</td><td>unwise-1588p000.x5.y0.e0.jpeg, unwise-1588p000.x5.y0.e1.jpeg, unwise-1588p000.x5.y0.e2.jpeg, unwise-1588p000.x5.y0.e3.jpeg</td><td>55343.6, 55533.7, 56805.7, 56995.8</td><td>R.A.= 158.53118 dec= -0.68478482</td><td>8112</td><td>518895, 519209, 519216, 519200, 518903, 518887, 519201, 519217, 518894, 519224</td></tr>\n",
       "<tr><td>5465410</td><td>nan</td><td>nan</td><td>http://simbad.u-strasbg.fr/simbad/sim-coo?Coord=158.53118+-0.68478482&amp;Radius=498&amp;Radius.unit=arcsec</td><td>http://vizier.u-strasbg.fr/viz-bin/VizieR?-source=&amp;-out.add=_r&amp;-out.add=_RAJ%2C_DEJ&amp;-sort=_r&amp;-to=&amp;-out.max=20&amp;-meta.ucd=2&amp;-meta.foot=1&amp;-c.rs=498&amp;-c=158.53118+-0.68478482</td><td>http://irsa.ipac.caltech.edu/applications/finderchart/#&amp;id=Hydra_finderchart_finder_chart&amp;projectId=finderchart&amp;UserTargetWorldPt=158.53118;-0.68478482;EQ_J2000&amp;subsize=0.195556&amp;sources=DSS,SDSS,2MASS,IRIS,WISE&amp;DoSearch=true</td><td>unwise-1588p000.x5.y0.e0.jpeg, unwise-1588p000.x5.y0.e1.jpeg, unwise-1588p000.x5.y0.e2.jpeg, unwise-1588p000.x5.y0.e3.jpeg</td><td>55343.6, 55533.7, 56805.7, 56995.8</td><td>R.A.= 158.53118 dec= -0.68478482</td><td>8112</td><td>518895, 519209, 519216, 519200, 518903, 518887, 519201, 519217, 518894, 519224</td></tr>\n",
       "<tr><td>5465413</td><td>nan</td><td>nan</td><td>http://simbad.u-strasbg.fr/simbad/sim-coo?Coord=158.53118+-0.48925254&amp;Radius=498&amp;Radius.unit=arcsec</td><td>http://vizier.u-strasbg.fr/viz-bin/VizieR?-source=&amp;-out.add=_r&amp;-out.add=_RAJ%2C_DEJ&amp;-sort=_r&amp;-to=&amp;-out.max=20&amp;-meta.ucd=2&amp;-meta.foot=1&amp;-c.rs=498&amp;-c=158.53118+-0.48925254</td><td>http://irsa.ipac.caltech.edu/applications/finderchart/#&amp;id=Hydra_finderchart_finder_chart&amp;projectId=finderchart&amp;UserTargetWorldPt=158.53118;-0.48925254;EQ_J2000&amp;subsize=0.195556&amp;sources=DSS,SDSS,2MASS,IRIS,WISE&amp;DoSearch=true</td><td>unwise-1588p000.x5.y1.e0.jpeg, unwise-1588p000.x5.y1.e1.jpeg, unwise-1588p000.x5.y1.e2.jpeg, unwise-1588p000.x5.y1.e3.jpeg</td><td>55343.6, 55533.7, 56805.7, 56995.8</td><td>R.A.= 158.53118 dec= -0.48925254</td><td>8112</td><td>519208, 519217, 519210, 519201, 519216, 519200, 519202, 519218, 518895, 519225</td></tr>\n",
       "<tr><td>5465413</td><td>nan</td><td>nan</td><td>http://simbad.u-strasbg.fr/simbad/sim-coo?Coord=158.53118+-0.48925254&amp;Radius=498&amp;Radius.unit=arcsec</td><td>http://vizier.u-strasbg.fr/viz-bin/VizieR?-source=&amp;-out.add=_r&amp;-out.add=_RAJ%2C_DEJ&amp;-sort=_r&amp;-to=&amp;-out.max=20&amp;-meta.ucd=2&amp;-meta.foot=1&amp;-c.rs=498&amp;-c=158.53118+-0.48925254</td><td>http://irsa.ipac.caltech.edu/applications/finderchart/#&amp;id=Hydra_finderchart_finder_chart&amp;projectId=finderchart&amp;UserTargetWorldPt=158.53118;-0.48925254;EQ_J2000&amp;subsize=0.195556&amp;sources=DSS,SDSS,2MASS,IRIS,WISE&amp;DoSearch=true</td><td>unwise-1588p000.x5.y1.e0.jpeg, unwise-1588p000.x5.y1.e1.jpeg, unwise-1588p000.x5.y1.e2.jpeg, unwise-1588p000.x5.y1.e3.jpeg</td><td>55343.6, 55533.7, 56805.7, 56995.8</td><td>R.A.= 158.53118 dec= -0.48925254</td><td>8112</td><td>519208, 519217, 519210, 519201, 519216, 519200, 519202, 519218, 518895, 519225</td></tr>\n",
       "<tr><td>5465413</td><td>nan</td><td>nan</td><td>http://simbad.u-strasbg.fr/simbad/sim-coo?Coord=158.53118+-0.48925254&amp;Radius=498&amp;Radius.unit=arcsec</td><td>http://vizier.u-strasbg.fr/viz-bin/VizieR?-source=&amp;-out.add=_r&amp;-out.add=_RAJ%2C_DEJ&amp;-sort=_r&amp;-to=&amp;-out.max=20&amp;-meta.ucd=2&amp;-meta.foot=1&amp;-c.rs=498&amp;-c=158.53118+-0.48925254</td><td>http://irsa.ipac.caltech.edu/applications/finderchart/#&amp;id=Hydra_finderchart_finder_chart&amp;projectId=finderchart&amp;UserTargetWorldPt=158.53118;-0.48925254;EQ_J2000&amp;subsize=0.195556&amp;sources=DSS,SDSS,2MASS,IRIS,WISE&amp;DoSearch=true</td><td>unwise-1588p000.x5.y1.e0.jpeg, unwise-1588p000.x5.y1.e1.jpeg, unwise-1588p000.x5.y1.e2.jpeg, unwise-1588p000.x5.y1.e3.jpeg</td><td>55343.6, 55533.7, 56805.7, 56995.8</td><td>R.A.= 158.53118 dec= -0.48925254</td><td>8112</td><td>519208, 519217, 519210, 519201, 519216, 519200, 519202, 519218, 518895, 519225</td></tr>\n",
       "<tr><td>5465417</td><td>nan</td><td>nan</td><td>http://simbad.u-strasbg.fr/simbad/sim-coo?Coord=158.53118+-0.29370886&amp;Radius=498&amp;Radius.unit=arcsec</td><td>http://vizier.u-strasbg.fr/viz-bin/VizieR?-source=&amp;-out.add=_r&amp;-out.add=_RAJ%2C_DEJ&amp;-sort=_r&amp;-to=&amp;-out.max=20&amp;-meta.ucd=2&amp;-meta.foot=1&amp;-c.rs=498&amp;-c=158.53118+-0.29370886</td><td>http://irsa.ipac.caltech.edu/applications/finderchart/#&amp;id=Hydra_finderchart_finder_chart&amp;projectId=finderchart&amp;UserTargetWorldPt=158.53118;-0.29370886;EQ_J2000&amp;subsize=0.195556&amp;sources=DSS,SDSS,2MASS,IRIS,WISE&amp;DoSearch=true</td><td>unwise-1588p000.x5.y2.e0.jpeg, unwise-1588p000.x5.y2.e1.jpeg, unwise-1588p000.x5.y2.e2.jpeg, unwise-1588p000.x5.y2.e3.jpeg</td><td>55343.6, 55533.7, 56805.7, 56995.8</td><td>R.A.= 158.53118 dec= -0.29370886</td><td>8112</td><td>519209, 519218, 519211, 519202, 519217, 519201, 519219, 519203, 519208, 519226</td></tr>\n",
       "<tr><td>5465417</td><td>nan</td><td>nan</td><td>http://simbad.u-strasbg.fr/simbad/sim-coo?Coord=158.53118+-0.29370886&amp;Radius=498&amp;Radius.unit=arcsec</td><td>http://vizier.u-strasbg.fr/viz-bin/VizieR?-source=&amp;-out.add=_r&amp;-out.add=_RAJ%2C_DEJ&amp;-sort=_r&amp;-to=&amp;-out.max=20&amp;-meta.ucd=2&amp;-meta.foot=1&amp;-c.rs=498&amp;-c=158.53118+-0.29370886</td><td>http://irsa.ipac.caltech.edu/applications/finderchart/#&amp;id=Hydra_finderchart_finder_chart&amp;projectId=finderchart&amp;UserTargetWorldPt=158.53118;-0.29370886;EQ_J2000&amp;subsize=0.195556&amp;sources=DSS,SDSS,2MASS,IRIS,WISE&amp;DoSearch=true</td><td>unwise-1588p000.x5.y2.e0.jpeg, unwise-1588p000.x5.y2.e1.jpeg, unwise-1588p000.x5.y2.e2.jpeg, unwise-1588p000.x5.y2.e3.jpeg</td><td>55343.6, 55533.7, 56805.7, 56995.8</td><td>R.A.= 158.53118 dec= -0.29370886</td><td>8112</td><td>519209, 519218, 519211, 519202, 519217, 519201, 519219, 519203, 519208, 519226</td></tr>\n",
       "<tr><td>5465417</td><td>nan</td><td>nan</td><td>http://simbad.u-strasbg.fr/simbad/sim-coo?Coord=158.53118+-0.29370886&amp;Radius=498&amp;Radius.unit=arcsec</td><td>http://vizier.u-strasbg.fr/viz-bin/VizieR?-source=&amp;-out.add=_r&amp;-out.add=_RAJ%2C_DEJ&amp;-sort=_r&amp;-to=&amp;-out.max=20&amp;-meta.ucd=2&amp;-meta.foot=1&amp;-c.rs=498&amp;-c=158.53118+-0.29370886</td><td>http://irsa.ipac.caltech.edu/applications/finderchart/#&amp;id=Hydra_finderchart_finder_chart&amp;projectId=finderchart&amp;UserTargetWorldPt=158.53118;-0.29370886;EQ_J2000&amp;subsize=0.195556&amp;sources=DSS,SDSS,2MASS,IRIS,WISE&amp;DoSearch=true</td><td>unwise-1588p000.x5.y2.e0.jpeg, unwise-1588p000.x5.y2.e1.jpeg, unwise-1588p000.x5.y2.e2.jpeg, unwise-1588p000.x5.y2.e3.jpeg</td><td>55343.6, 55533.7, 56805.7, 56995.8</td><td>R.A.= 158.53118 dec= -0.29370886</td><td>8112</td><td>519209, 519218, 519211, 519202, 519217, 519201, 519219, 519203, 519208, 519226</td></tr>\n",
       "<tr><td>5465421</td><td>nan</td><td>nan</td><td>http://simbad.u-strasbg.fr/simbad/sim-coo?Coord=158.53118+-0.098158342&amp;Radius=498&amp;Radius.unit=arcsec</td><td>http://vizier.u-strasbg.fr/viz-bin/VizieR?-source=&amp;-out.add=_r&amp;-out.add=_RAJ%2C_DEJ&amp;-sort=_r&amp;-to=&amp;-out.max=20&amp;-meta.ucd=2&amp;-meta.foot=1&amp;-c.rs=498&amp;-c=158.53118+-0.098158342</td><td>http://irsa.ipac.caltech.edu/applications/finderchart/#&amp;id=Hydra_finderchart_finder_chart&amp;projectId=finderchart&amp;UserTargetWorldPt=158.53118;-0.098158342;EQ_J2000&amp;subsize=0.195556&amp;sources=DSS,SDSS,2MASS,IRIS,WISE&amp;DoSearch=true</td><td>unwise-1588p000.x5.y3.e0.jpeg, unwise-1588p000.x5.y3.e1.jpeg, unwise-1588p000.x5.y3.e2.jpeg, unwise-1588p000.x5.y3.e3.jpeg</td><td>55343.6, 55533.7, 56805.7, 56995.8</td><td>R.A.= 158.53118 dec= -0.098158342</td><td>8112</td><td>519219, 519210, 519203, 519212, 519218, 519220, 519202, 519204, 519227, 519209</td></tr>\n",
       "<tr><td>5465421</td><td>nan</td><td>nan</td><td>http://simbad.u-strasbg.fr/simbad/sim-coo?Coord=158.53118+-0.098158342&amp;Radius=498&amp;Radius.unit=arcsec</td><td>http://vizier.u-strasbg.fr/viz-bin/VizieR?-source=&amp;-out.add=_r&amp;-out.add=_RAJ%2C_DEJ&amp;-sort=_r&amp;-to=&amp;-out.max=20&amp;-meta.ucd=2&amp;-meta.foot=1&amp;-c.rs=498&amp;-c=158.53118+-0.098158342</td><td>http://irsa.ipac.caltech.edu/applications/finderchart/#&amp;id=Hydra_finderchart_finder_chart&amp;projectId=finderchart&amp;UserTargetWorldPt=158.53118;-0.098158342;EQ_J2000&amp;subsize=0.195556&amp;sources=DSS,SDSS,2MASS,IRIS,WISE&amp;DoSearch=true</td><td>unwise-1588p000.x5.y3.e0.jpeg, unwise-1588p000.x5.y3.e1.jpeg, unwise-1588p000.x5.y3.e2.jpeg, unwise-1588p000.x5.y3.e3.jpeg</td><td>55343.6, 55533.7, 56805.7, 56995.8</td><td>R.A.= 158.53118 dec= -0.098158342</td><td>8112</td><td>519219, 519210, 519203, 519212, 519218, 519220, 519202, 519204, 519227, 519209</td></tr>\n",
       "<tr><td>5465421</td><td>nan</td><td>nan</td><td>http://simbad.u-strasbg.fr/simbad/sim-coo?Coord=158.53118+-0.098158342&amp;Radius=498&amp;Radius.unit=arcsec</td><td>http://vizier.u-strasbg.fr/viz-bin/VizieR?-source=&amp;-out.add=_r&amp;-out.add=_RAJ%2C_DEJ&amp;-sort=_r&amp;-to=&amp;-out.max=20&amp;-meta.ucd=2&amp;-meta.foot=1&amp;-c.rs=498&amp;-c=158.53118+-0.098158342</td><td>http://irsa.ipac.caltech.edu/applications/finderchart/#&amp;id=Hydra_finderchart_finder_chart&amp;projectId=finderchart&amp;UserTargetWorldPt=158.53118;-0.098158342;EQ_J2000&amp;subsize=0.195556&amp;sources=DSS,SDSS,2MASS,IRIS,WISE&amp;DoSearch=true</td><td>unwise-1588p000.x5.y3.e0.jpeg, unwise-1588p000.x5.y3.e1.jpeg, unwise-1588p000.x5.y3.e2.jpeg, unwise-1588p000.x5.y3.e3.jpeg</td><td>55343.6, 55533.7, 56805.7, 56995.8</td><td>R.A.= 158.53118 dec= -0.098158342</td><td>8112</td><td>519219, 519210, 519203, 519212, 519218, 519220, 519202, 519204, 519227, 519209</td></tr>\n",
       "</table>"
      ],
      "text/plain": [
       "<Table length=18>\n",
       "subject_id ...\n",
       "  int64    ...\n",
       "---------- ...\n",
       "   5465402 ...\n",
       "   5465402 ...\n",
       "   5465402 ...\n",
       "   5465406 ...\n",
       "   5465406 ...\n",
       "   5465406 ...\n",
       "   5465410 ...\n",
       "   5465410 ...\n",
       "   5465410 ...\n",
       "   5465413 ...\n",
       "   5465413 ...\n",
       "   5465413 ...\n",
       "   5465417 ...\n",
       "   5465417 ...\n",
       "   5465417 ...\n",
       "   5465421 ...\n",
       "   5465421 ...\n",
       "   5465421 ..."
      ]
     },
     "execution_count": 29,
     "metadata": {},
     "output_type": "execute_result"
    }
   ],
   "source": [
    "C.subjects"
   ]
  },
  {
   "cell_type": "code",
   "execution_count": 35,
   "metadata": {
    "collapsed": false
   },
   "outputs": [
    {
     "data": {
      "image/png": "[encoded data removed]",
      "text/plain": [
       "<matplotlib.figure.Figure at 0x16eed1ac8>"
      ]
     },
     "metadata": {},
     "output_type": "display_data"
    }
   ],
   "source": [
    "sub = C.get_subject(5465421)"
   ]
  },
  {
   "cell_type": "code",
   "execution_count": null,
   "metadata": {
    "collapsed": true
   },
   "outputs": [],
   "source": []
  }
 ],
 "metadata": {
  "anaconda-cloud": {},
  "kernelspec": {
   "display_name": "Python [conda env:astroconda]",
   "language": "python",
   "name": "conda-env-astroconda-py"
  },
  "language_info": {
   "codemirror_mode": {
    "name": "ipython",
    "version": 3
   },
   "file_extension": ".py",
   "mimetype": "text/x-python",
   "name": "python",
   "nbconvert_exporter": "python",
   "pygments_lexer": "ipython3",
   "version": "3.5.2"
  },
  "nbpresent": {
   "slides": {
    "f4f36e2e-17ef-45df-8dc6-413d84bebf73": {
     "id": "f4f36e2e-17ef-45df-8dc6-413d84bebf73",
     "layout": "treemap",
     "prev": null,
     "regions": {
      "1f1f2d5c-c505-4757-b82d-21af15c6947e": {
       "attrs": {
        "height": 0.33,
        "treemap:weight": 1,
        "width": 1,
        "x": 0,
        "y": 0.67
       },
       "id": "1f1f2d5c-c505-4757-b82d-21af15c6947e"
      },
      "972f67b9-7bb2-42de-b7dc-b2acc7d8aa69": {
       "attrs": {
        "height": 0.67,
        "treemap:weight": 1,
        "width": 0.5,
        "x": 0,
        "y": 0
       },
       "id": "972f67b9-7bb2-42de-b7dc-b2acc7d8aa69"
      },
      "d1872bd8-1c8a-4d7e-90f7-a22c3840abff": {
       "attrs": {
        "height": 0.67,
        "treemap:weight": 1,
        "width": 0.5,
        "x": 0.5,
        "y": 0
       },
       "id": "d1872bd8-1c8a-4d7e-90f7-a22c3840abff"
      }
     }
    }
   },
   "themes": {
    "default": "87189568-28f0-469e-91c5-c4cf495f7191",
    "theme": {
     "87189568-28f0-469e-91c5-c4cf495f7191": {
      "backgrounds": {
       "backgroundColor": {
        "background-color": "backgroundColor",
        "id": "backgroundColor"
       }
      },
      "id": "87189568-28f0-469e-91c5-c4cf495f7191",
      "palette": {
       "backgroundColor": {
        "id": "backgroundColor",
        "rgb": [
         34,
         34,
         34
        ]
       },
       "headingColor": {
        "id": "headingColor",
        "rgb": [
         238,
         238,
         238
        ]
       },
       "linkColor": {
        "id": "linkColor",
        "rgb": [
         170,
         34,
         51
        ]
       },
       "mainColor": {
        "id": "mainColor",
        "rgb": [
         238,
         238,
         238
        ]
       }
      },
      "rules": {
       "a": {
        "color": "linkColor"
       },
       "h1": {
        "color": "headingColor",
        "font-family": "Ubuntu",
        "font-size": 7
       },
       "h2": {
        "color": "headingColor",
        "font-family": "Ubuntu",
        "font-size": 5
       },
       "h3": {
        "color": "headingColor",
        "font-family": "Ubuntu",
        "font-size": 3.75
       },
       "h4": {
        "color": "headingColor",
        "font-family": "Ubuntu",
        "font-size": 3
       },
       "h5": {
        "color": "headingColor",
        "font-family": "Ubuntu"
       },
       "h6": {
        "color": "headingColor",
        "font-family": "Ubuntu"
       },
       "h7": {
        "color": "headingColor",
        "font-family": "Ubuntu"
       },
       "li": {
        "color": "mainColor",
        "font-family": "Ubuntu",
        "font-size": 5
       },
       "p": {
        "color": "mainColor",
        "font-family": "Ubuntu",
        "font-size": 5
       }
      },
      "text-base": {
       "color": "mainColor",
       "font-family": "Ubuntu",
       "font-size": 5
      }
     }
    }
   }
  }
 },
 "nbformat": 4,
 "nbformat_minor": 1
}
